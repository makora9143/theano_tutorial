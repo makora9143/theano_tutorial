{
 "cells": [
  {
   "cell_type": "code",
   "execution_count": 2,
   "metadata": {
    "collapsed": true
   },
   "outputs": [],
   "source": [
    "import theano\n",
    "import theano.tensor as T\n",
    "import numpy as np"
   ]
  },
  {
   "cell_type": "markdown",
   "metadata": {},
   "source": [
    "# computing tanh(x(t).dot(W) + b)\n",
    "\n",
    "$$\n",
    "tanh(Wx_t + b)\n",
    "$$\n",
    "\n",
    "## 前準備"
   ]
  },
  {
   "cell_type": "code",
   "execution_count": 53,
   "metadata": {
    "collapsed": false
   },
   "outputs": [],
   "source": [
    "X = T.matrix('X')\n",
    "W = T.matrix('W')\n",
    "b = T.vector('b')\n",
    "\n",
    "results, updates = theano.scan(lambda x: T.tanh(T.dot(x, W) + b), sequences=X)\n",
    "f = theano.function(inputs=[X, W, b], outputs=[results])\n",
    "\n",
    "x = np.eye(2, dtype=theano.config.floatX)\n",
    "w = np.ones((2, 2), dtype=theano.config.floatX)\n",
    "b = np.ones((2,), dtype=theano.config.floatX)\n",
    "b[1] = 2"
   ]
  },
  {
   "cell_type": "markdown",
   "metadata": {},
   "source": [
    "## データ"
   ]
  },
  {
   "cell_type": "code",
   "execution_count": 54,
   "metadata": {
    "collapsed": false
   },
   "outputs": [
    {
     "name": "stdout",
     "output_type": "stream",
     "text": [
      "x:  [[ 1.  0.]\n",
      " [ 0.  1.]]\n",
      "w:  [[ 1.  1.]\n",
      " [ 1.  1.]]\n",
      "b:  [ 1.  2.]\n"
     ]
    }
   ],
   "source": [
    "print 'x: ', x\n",
    "print 'w: ', w\n",
    "print 'b: ', b"
   ]
  },
  {
   "cell_type": "markdown",
   "metadata": {},
   "source": [
    "## numpy"
   ]
  },
  {
   "cell_type": "code",
   "execution_count": 55,
   "metadata": {
    "collapsed": false
   },
   "outputs": [
    {
     "name": "stdout",
     "output_type": "stream",
     "text": [
      "numpy:  [[ 0.96402758  0.99505478]\n",
      " [ 0.96402758  0.99505478]]\n"
     ]
    }
   ],
   "source": [
    "# numpy\n",
    "print 'numpy: ', np.tanh(x.dot(w) + b)"
   ]
  },
  {
   "cell_type": "markdown",
   "metadata": {},
   "source": [
    "## theano"
   ]
  },
  {
   "cell_type": "code",
   "execution_count": 56,
   "metadata": {
    "collapsed": false
   },
   "outputs": [
    {
     "data": {
      "text/plain": [
       "[array([[ 0.96402758,  0.99505478],\n",
       "        [ 0.96402758,  0.99505478]], dtype=float32)]"
      ]
     },
     "execution_count": 56,
     "metadata": {},
     "output_type": "execute_result"
    }
   ],
   "source": [
    "f(x, w, b)"
   ]
  },
  {
   "cell_type": "markdown",
   "metadata": {},
   "source": [
    "# computing the sequence\n",
    "\n",
    "$$\n",
    "x_t = tanh(Wx_{t-1} + Uy_t + Vp_{T-t})\n",
    "$$\n",
    "\n",
    "## 前準備"
   ]
  },
  {
   "cell_type": "code",
   "execution_count": 136,
   "metadata": {
    "collapsed": false
   },
   "outputs": [],
   "source": [
    "X = T.vector('X')\n",
    "W = T.matrix('W')\n",
    "b = T.vector('b')\n",
    "U = T.matrix('U')\n",
    "Y = T.matrix('Y')\n",
    "V = T.matrix('V')\n",
    "P = T.matrix('P')\n",
    "\n",
    "results, updates = theano.scan(lambda a, b, x_tm1: T.tanh(T.dot(x_tm1, W) + T.dot(a, U) + T.dot(b, V)),\n",
    "   sequences=[Y, P[::-1]],  outputs_info=[X])\n",
    "f = theano.function(inputs=[X, W, Y, U, P, V], outputs=[results])"
   ]
  },
  {
   "cell_type": "markdown",
   "metadata": {},
   "source": [
    "## データ"
   ]
  },
  {
   "cell_type": "code",
   "execution_count": 132,
   "metadata": {
    "collapsed": false
   },
   "outputs": [
    {
     "name": "stdout",
     "output_type": "stream",
     "text": [
      "x:  [ 0.  1.]\n",
      "w:  [[ 1.  1.]\n",
      " [ 1.  1.]]\n",
      "y:  [[-3. -3.]\n",
      " [ 1.  1.]\n",
      " [ 1.  1.]\n",
      " [ 1.  1.]\n",
      " [ 1.  1.]]\n",
      "u:  [[ 1.  1.]\n",
      " [ 1.  1.]]\n",
      "p:  [[ 3.  3.]\n",
      " [ 1.  1.]\n",
      " [ 1.  1.]\n",
      " [ 1.  1.]\n",
      " [ 1.  1.]]\n",
      "v:  [[ 1.  1.]\n",
      " [ 1.  1.]]\n"
     ]
    }
   ],
   "source": [
    "x = np.zeros((2), dtype=theano.config.floatX)\n",
    "x[1] = 1\n",
    "w = np.ones((2, 2), dtype=theano.config.floatX)\n",
    "y = np.ones((5, 2), dtype=theano.config.floatX)\n",
    "y[0, :] = -3\n",
    "u = np.ones((2, 2), dtype=theano.config.floatX)\n",
    "p = np.ones((5, 2), dtype=theano.config.floatX)\n",
    "p[0, :] = 3\n",
    "v = np.ones((2, 2), dtype=theano.config.floatX)\n",
    "\n",
    "print 'x: ', x\n",
    "print 'w: ', w\n",
    "print 'y: ', y\n",
    "print 'u: ', u\n",
    "print 'p: ', p\n",
    "print 'v: ', v"
   ]
  },
  {
   "cell_type": "markdown",
   "metadata": {},
   "source": [
    "## numpy"
   ]
  },
  {
   "cell_type": "code",
   "execution_count": 128,
   "metadata": {
    "collapsed": false
   },
   "outputs": [
    {
     "name": "stdout",
     "output_type": "stream",
     "text": [
      "[[ -3.  -3.]\n",
      " [ -2.  -2.]\n",
      " [  0.   0.]\n",
      " [  4.   4.]\n",
      " [ 16.  16.]]\n",
      "[[-0.99505478 -0.99505478]\n",
      " [ 0.96471971  0.96471971]\n",
      " [ 0.99998587  0.99998587]\n",
      " [ 0.99998772  0.99998772]\n",
      " [ 1.          1.        ]]\n"
     ]
    }
   ],
   "source": [
    "x_res = np.zeros((5, 2), dtype=theano.config.floatX)\n",
    "x_res[0] = x.dot(w) + y[0].dot(u) + p[4].dot(v)\n",
    "for i in range(1, 5):\n",
    "    x_res[i] = x_res[i-1].dot(w) + y[i].dot(u) + p[4-i].dot(v)\n",
    "print x_res\n",
    "\n",
    "x_res = np.zeros((5, 2), dtype=theano.config.floatX)\n",
    "x_res[0] = np.tanh(x.dot(w) + y[0].dot(u) + p[4].dot(v))\n",
    "for i in range(1, 5):\n",
    "    x_res[i] = np.tanh(x_res[i-1].dot(w) + y[i].dot(u) + p[4-i].dot(v))\n",
    "print x_res"
   ]
  },
  {
   "cell_type": "markdown",
   "metadata": {},
   "source": [
    "## theano"
   ]
  },
  {
   "cell_type": "code",
   "execution_count": 137,
   "metadata": {
    "collapsed": false
   },
   "outputs": [
    {
     "data": {
      "text/plain": [
       "[array([[-0.99505478, -0.99505478],\n",
       "        [ 0.96471971,  0.96471971],\n",
       "        [ 0.99998587,  0.99998587],\n",
       "        [ 0.99998772,  0.99998772],\n",
       "        [ 1.        ,  1.        ]], dtype=float32)]"
      ]
     },
     "execution_count": 137,
     "metadata": {},
     "output_type": "execute_result"
    }
   ],
   "source": [
    "f(x, w, y, u, p, v)"
   ]
  },
  {
   "cell_type": "markdown",
   "metadata": {},
   "source": [
    "# Computing norms of lines (rows) of X\n",
    "\n",
    "$$\n",
    "\\sqrt{||X||^2}\n",
    "$$\n",
    "\n",
    "## 前準備"
   ]
  },
  {
   "cell_type": "code",
   "execution_count": 124,
   "metadata": {
    "collapsed": true
   },
   "outputs": [],
   "source": [
    "X = T.matrix('X')\n",
    "\n",
    "results, updates = theano.scan(lambda x_i: T.sqrt((x_i ** 2).sum()), sequences=[X])\n",
    "f = theano.function(inputs=[X], outputs=[results])"
   ]
  },
  {
   "cell_type": "markdown",
   "metadata": {},
   "source": [
    "## データ"
   ]
  },
  {
   "cell_type": "code",
   "execution_count": 125,
   "metadata": {
    "collapsed": false
   },
   "outputs": [
    {
     "data": {
      "text/plain": [
       "array([[ 0.,  1.,  0.,  0.,  0.,  0.],\n",
       "       [ 0.,  0.,  2.,  0.,  0.,  0.],\n",
       "       [ 0.,  0.,  0.,  3.,  0.,  0.],\n",
       "       [ 0.,  0.,  0.,  0.,  4.,  0.],\n",
       "       [ 0.,  0.,  0.,  0.,  0.,  5.],\n",
       "       [ 0.,  0.,  0.,  0.,  0.,  0.]], dtype=float32)"
      ]
     },
     "execution_count": 125,
     "metadata": {},
     "output_type": "execute_result"
    }
   ],
   "source": [
    "x = np.diag(np.arange(1, 6, dtype=theano.config.floatX), 1)\n",
    "x"
   ]
  },
  {
   "cell_type": "markdown",
   "metadata": {},
   "source": [
    "## numpy"
   ]
  },
  {
   "cell_type": "code",
   "execution_count": 64,
   "metadata": {
    "collapsed": false
   },
   "outputs": [
    {
     "data": {
      "text/plain": [
       "array([ 1.,  2.,  3.,  4.,  5.,  0.], dtype=float32)"
      ]
     },
     "execution_count": 64,
     "metadata": {},
     "output_type": "execute_result"
    }
   ],
   "source": [
    "np.sqrt((x**2).sum(1))"
   ]
  },
  {
   "cell_type": "markdown",
   "metadata": {},
   "source": [
    "## theano"
   ]
  },
  {
   "cell_type": "code",
   "execution_count": 66,
   "metadata": {
    "collapsed": false
   },
   "outputs": [
    {
     "data": {
      "text/plain": [
       "[array([ 1.,  2.,  3.,  4.,  5.,  0.], dtype=float32)]"
      ]
     },
     "execution_count": 66,
     "metadata": {},
     "output_type": "execute_result"
    }
   ],
   "source": [
    "f(x)"
   ]
  },
  {
   "cell_type": "markdown",
   "metadata": {},
   "source": [
    "# Computing norms of columns of X\n",
    "\n",
    "$$\n",
    "\\sqrt{||X||^2}\n",
    "$$\n",
    "\n",
    "## 前準備"
   ]
  },
  {
   "cell_type": "code",
   "execution_count": 67,
   "metadata": {
    "collapsed": true
   },
   "outputs": [],
   "source": [
    "X = T.matrix('X')\n",
    "\n",
    "results, updates = theano.scan(lambda x_i: T.sqrt((x_i ** 2).sum()), sequences=[X.T])\n",
    "f = theano.function(inputs=[X], outputs=[results])"
   ]
  },
  {
   "cell_type": "markdown",
   "metadata": {},
   "source": [
    "## データ"
   ]
  },
  {
   "cell_type": "code",
   "execution_count": 68,
   "metadata": {
    "collapsed": false
   },
   "outputs": [
    {
     "data": {
      "text/plain": [
       "array([[ 0.,  1.,  0.,  0.,  0.,  0.],\n",
       "       [ 0.,  0.,  2.,  0.,  0.,  0.],\n",
       "       [ 0.,  0.,  0.,  3.,  0.,  0.],\n",
       "       [ 0.,  0.,  0.,  0.,  4.,  0.],\n",
       "       [ 0.,  0.,  0.,  0.,  0.,  5.],\n",
       "       [ 0.,  0.,  0.,  0.,  0.,  0.]], dtype=float32)"
      ]
     },
     "execution_count": 68,
     "metadata": {},
     "output_type": "execute_result"
    }
   ],
   "source": [
    "x = np.diag(np.arange(1, 6, dtype=theano.config.floatX), 1)\n",
    "x"
   ]
  },
  {
   "cell_type": "markdown",
   "metadata": {},
   "source": [
    "## numpy"
   ]
  },
  {
   "cell_type": "code",
   "execution_count": 70,
   "metadata": {
    "collapsed": false
   },
   "outputs": [
    {
     "data": {
      "text/plain": [
       "array([ 0.,  1.,  2.,  3.,  4.,  5.], dtype=float32)"
      ]
     },
     "execution_count": 70,
     "metadata": {},
     "output_type": "execute_result"
    }
   ],
   "source": [
    "np.sqrt((x ** 2).sum(0))"
   ]
  },
  {
   "cell_type": "markdown",
   "metadata": {},
   "source": [
    "## theano"
   ]
  },
  {
   "cell_type": "code",
   "execution_count": 72,
   "metadata": {
    "collapsed": false
   },
   "outputs": [
    {
     "data": {
      "text/plain": [
       "[array([ 0.,  1.,  2.,  3.,  4.,  5.], dtype=float32)]"
      ]
     },
     "execution_count": 72,
     "metadata": {},
     "output_type": "execute_result"
    }
   ],
   "source": [
    "f(x)"
   ]
  },
  {
   "cell_type": "markdown",
   "metadata": {},
   "source": [
    "# Computing trace of X\n",
    "\n",
    "$$\n",
    "tr(X)\n",
    "$$\n",
    "\n",
    "## 前準備"
   ]
  },
  {
   "cell_type": "code",
   "execution_count": 88,
   "metadata": {
    "collapsed": false
   },
   "outputs": [],
   "source": [
    "floatX = 'float32'\n",
    "\n",
    "X = T.matrix('X')\n",
    "\n",
    "results, updates = theano.scan(lambda i, j, t_f: T.cast(X[i, j] + t_f, floatX),\n",
    "                                sequences=[T.arange(X.shape[0]), T.arange(X.shape[1])],\n",
    "                                outputs_info=np.asarray(0, dtype=floatX))\n",
    "result = results[-1]\n",
    "f = theano.function(inputs=[X], outputs=[result])"
   ]
  },
  {
   "cell_type": "markdown",
   "metadata": {},
   "source": [
    "## データ"
   ]
  },
  {
   "cell_type": "code",
   "execution_count": 89,
   "metadata": {
    "collapsed": false
   },
   "outputs": [
    {
     "data": {
      "text/plain": [
       "array([[ 0.,  1.,  2.,  3.,  4.],\n",
       "       [ 0.,  1.,  0.,  0.,  0.],\n",
       "       [ 0.,  0.,  1.,  0.,  0.],\n",
       "       [ 0.,  0.,  0.,  1.,  0.],\n",
       "       [ 0.,  0.,  0.,  0.,  1.]], dtype=float32)"
      ]
     },
     "execution_count": 89,
     "metadata": {},
     "output_type": "execute_result"
    }
   ],
   "source": [
    "x = np.eye(5, dtype=theano.config.floatX)\n",
    "x[0] = np.arange(5, dtype=theano.config.floatX)\n",
    "x"
   ]
  },
  {
   "cell_type": "markdown",
   "metadata": {},
   "source": [
    "## numpy"
   ]
  },
  {
   "cell_type": "code",
   "execution_count": 90,
   "metadata": {
    "collapsed": false
   },
   "outputs": [
    {
     "data": {
      "text/plain": [
       "4.0"
      ]
     },
     "execution_count": 90,
     "metadata": {},
     "output_type": "execute_result"
    }
   ],
   "source": [
    "np.diagonal(x).sum()"
   ]
  },
  {
   "cell_type": "markdown",
   "metadata": {},
   "source": [
    "## theano"
   ]
  },
  {
   "cell_type": "code",
   "execution_count": 91,
   "metadata": {
    "collapsed": false
   },
   "outputs": [
    {
     "data": {
      "text/plain": [
       "[array(4.0, dtype=float32)]"
      ]
     },
     "execution_count": 91,
     "metadata": {},
     "output_type": "execute_result"
    }
   ],
   "source": [
    "f(x)"
   ]
  },
  {
   "cell_type": "markdown",
   "metadata": {},
   "source": [
    "# Computing the sequence\n",
    "\n",
    "$$\n",
    "\\mathbf{x_t} = \\mathbf{Ux_{t-2}} + \\mathbf{Vx_{t-1}} + tanh(\\mathbf{Wx_{t-1}} + \\mathbf{b})\n",
    "$$\n",
    "\n",
    "## 前準備"
   ]
  },
  {
   "cell_type": "code",
   "execution_count": 92,
   "metadata": {
    "collapsed": true
   },
   "outputs": [],
   "source": [
    "X = T.matrix('X')\n",
    "W = T.matrix('W')\n",
    "b = T.vector('b')\n",
    "U = T.matrix('U')\n",
    "V = T.matrix('V')\n",
    "n = T.iscalar('n')\n",
    "\n",
    "results, updates = theano.scan(lambda x_tm2, x_tm1: T.dot(x_tm2, U) + T.dot(x_tm1, V) + T.tanh(T.dot(x_tm1, W) + b),\n",
    "                               n_steps=n, outputs_info=[dict(initial=X, taps=[-2, -1])])\n",
    "f = theano.function(inputs=[X, W, b, U, V, n], outputs=[results])"
   ]
  },
  {
   "cell_type": "markdown",
   "metadata": {},
   "source": [
    "## データ"
   ]
  },
  {
   "cell_type": "code",
   "execution_count": 94,
   "metadata": {
    "collapsed": false
   },
   "outputs": [
    {
     "name": "stdout",
     "output_type": "stream",
     "text": [
      "x:  [[ 0.  0.]\n",
      " [ 0.  1.]]\n",
      "w:  [[ 0.5  0.5]\n",
      " [ 0.5  0.5]]\n",
      "u:  [[-0.5  0.5]\n",
      " [ 0.5 -0.5]]\n",
      "v:  [[ 0.5  0.5]\n",
      " [ 0.5  0.5]]\n",
      "n:  10\n",
      "b:  [ 1.  1.]\n"
     ]
    }
   ],
   "source": [
    "x = np.zeros((2, 2), dtype=theano.config.floatX)\n",
    "x[1, 1] = 1\n",
    "w = 0.5 * np.ones((2, 2), dtype=theano.config.floatX)\n",
    "u = 0.5 * np.ones((2, 2), dtype=theano.config.floatX) - np.eye(2, dtype=theano.config.floatX)\n",
    "v = 0.5 * np.ones((2, 2), dtype=theano.config.floatX)\n",
    "n = 10\n",
    "b = np.ones((2), dtype=theano.config.floatX)\n",
    "\n",
    "print 'x: ', x\n",
    "print 'w: ', w\n",
    "print 'u: ', u\n",
    "print 'v: ', v\n",
    "print 'n: ', n\n",
    "print 'b: ', b"
   ]
  },
  {
   "cell_type": "markdown",
   "metadata": {},
   "source": [
    "## numpy"
   ]
  },
  {
   "cell_type": "code",
   "execution_count": 97,
   "metadata": {
    "collapsed": false
   },
   "outputs": [
    {
     "data": {
      "text/plain": [
       "array([[  1.40514827,   1.40514827],\n",
       "       [  2.888989  ,   1.888989  ],\n",
       "       [  3.38671444,   3.38671444],\n",
       "       [  3.88640491,   4.88640491],\n",
       "       [  5.38636299,   5.38636299],\n",
       "       [  6.88635731,   5.88635731],\n",
       "       [  7.38635654,   7.38635654],\n",
       "       [  7.88635644,   8.88635644],\n",
       "       [  9.38635643,   9.38635643],\n",
       "       [ 10.88635642,   9.88635642]])"
      ]
     },
     "execution_count": 97,
     "metadata": {},
     "output_type": "execute_result"
    }
   ],
   "source": [
    "x_res = np.zeros((10, 2))\n",
    "x_res[0] = x[0].dot(u) + x[1].dot(v) + np.tanh(x[1].dot(w) + b)\n",
    "x_res[1] = x[1].dot(u) + x_res[0].dot(v) + np.tanh(x_res[0].dot(w) + b)\n",
    "x_res[2] = x_res[0].dot(u) + x_res[1].dot(v) + np.tanh(x_res[1].dot(w) + b)\n",
    "for i in range(2, 10):\n",
    "    x_res[i] = x_res[i - 2].dot(u) + x_res[i - 1].dot(v) + np.tanh(x_res[i - 1].dot(w) + b)\n",
    "x_res"
   ]
  },
  {
   "cell_type": "markdown",
   "metadata": {},
   "source": [
    "## theano"
   ]
  },
  {
   "cell_type": "code",
   "execution_count": 98,
   "metadata": {
    "collapsed": false
   },
   "outputs": [
    {
     "data": {
      "text/plain": [
       "[array([[  1.40514827,   1.40514827],\n",
       "        [  2.88898897,   1.88898897],\n",
       "        [  3.38671446,   3.38671446],\n",
       "        [  3.88640499,   4.88640499],\n",
       "        [  5.38636303,   5.38636303],\n",
       "        [  6.88635731,   5.88635731],\n",
       "        [  7.38635635,   7.38635635],\n",
       "        [  7.88635635,   8.88635635],\n",
       "        [  9.38635635,   9.38635635],\n",
       "        [ 10.88635635,   9.88635635]], dtype=float32)]"
      ]
     },
     "execution_count": 98,
     "metadata": {},
     "output_type": "execute_result"
    }
   ],
   "source": [
    "f(x, w, b, u, v, n)"
   ]
  },
  {
   "cell_type": "markdown",
   "metadata": {},
   "source": [
    "# Computing the Jacobian\n",
    "\n",
    "ヤコビ行列を計算．\n",
    "\n",
    "\n",
    "## 前準備"
   ]
  },
  {
   "cell_type": "code",
   "execution_count": 100,
   "metadata": {
    "collapsed": true
   },
   "outputs": [],
   "source": [
    "v = T.vector()\n",
    "A = T.matrix()\n",
    "y = T.tanh(T.dot(v, A))\n",
    "\n",
    "results, updates = theano.scan(lambda i: T.grad(y[i], v), sequences=[T.arange(y.shape[0])])\n",
    "f = theano.function(inputs=[A, v], outputs=[results], allow_input_downcast=True)"
   ]
  },
  {
   "cell_type": "markdown",
   "metadata": {},
   "source": [
    "## データ"
   ]
  },
  {
   "cell_type": "code",
   "execution_count": 106,
   "metadata": {
    "collapsed": false
   },
   "outputs": [
    {
     "name": "stdout",
     "output_type": "stream",
     "text": [
      "x:  [ 1.  0.  0.  0.  0.]\n",
      "w:  [[ 1.  0.  0.]\n",
      " [ 0.  1.  0.]\n",
      " [ 1.  1.  1.]\n",
      " [ 0.  0.  0.]\n",
      " [ 0.  0.  0.]]\n"
     ]
    },
    {
     "data": {
      "text/plain": [
       "[array([ 0.76159418,  0.        ,  0.        ], dtype=float32)]"
      ]
     },
     "execution_count": 106,
     "metadata": {},
     "output_type": "execute_result"
    }
   ],
   "source": [
    "x = np.eye(5, dtype=theano.config.floatX)[0]\n",
    "w = np.eye(5, 3, dtype=theano.config.floatX)\n",
    "w[2] = np.ones((3), dtype=theano.config.floatX)\n",
    "\n",
    "print 'x: ', x\n",
    "print 'w: ', w\n",
    "g = theano.function(inputs=[A, v], outputs=[y], allow_input_downcast=True)\n",
    "g(w, x)"
   ]
  },
  {
   "cell_type": "markdown",
   "metadata": {},
   "source": [
    "## numpy"
   ]
  },
  {
   "cell_type": "code",
   "execution_count": 108,
   "metadata": {
    "collapsed": false
   },
   "outputs": [
    {
     "data": {
      "text/plain": [
       "array([[ 0.41997433,  0.        ,  0.41997433,  0.        ,  0.        ],\n",
       "       [ 0.        ,  1.        ,  1.        ,  0.        ,  0.        ],\n",
       "       [ 0.        ,  0.        ,  1.        ,  0.        ,  0.        ]], dtype=float32)"
      ]
     },
     "execution_count": 108,
     "metadata": {},
     "output_type": "execute_result"
    }
   ],
   "source": [
    "((1 - np.tanh(x.dot(w)) ** 2) * w).T"
   ]
  },
  {
   "cell_type": "markdown",
   "metadata": {},
   "source": [
    "## theano"
   ]
  },
  {
   "cell_type": "code",
   "execution_count": 109,
   "metadata": {
    "collapsed": false
   },
   "outputs": [
    {
     "data": {
      "text/plain": [
       "[array([[ 0.41997433,  0.        ,  0.41997433,  0.        ,  0.        ],\n",
       "        [ 0.        ,  1.        ,  1.        ,  0.        ,  0.        ],\n",
       "        [ 0.        ,  0.        ,  1.        ,  0.        ,  0.        ]], dtype=float32)]"
      ]
     },
     "execution_count": 109,
     "metadata": {},
     "output_type": "execute_result"
    }
   ],
   "source": [
    "f(w, x)"
   ]
  }
 ],
 "metadata": {
  "kernelspec": {
   "display_name": "Python 2",
   "language": "python",
   "name": "python2"
  },
  "language_info": {
   "codemirror_mode": {
    "name": "ipython",
    "version": 2
   },
   "file_extension": ".py",
   "mimetype": "text/x-python",
   "name": "python",
   "nbconvert_exporter": "python",
   "pygments_lexer": "ipython2",
   "version": "2.7.10"
  }
 },
 "nbformat": 4,
 "nbformat_minor": 0
}
